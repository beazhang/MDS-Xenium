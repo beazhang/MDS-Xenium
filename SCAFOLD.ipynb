{
 "cells": [
  {
   "cell_type": "markdown",
   "id": "fd2db602-4eb3-419c-aec5-ff86ba0ee5d1",
   "metadata": {},
   "source": [
    "# SCAFOLD Function\n",
    "SCAFOLD identifies local structures ('clusters') in spatial data based on user defined values\n",
    "\n",
    "#### Inputs: \n",
    "1. adata = anndata object containing x,y coordinates of cells under adata.obsm['spatial'] and cell type annotations under adata.obs['ct']\n",
    "2. k = number of nearest neighbors for knn\n",
    "3. r = distance cutoff between two cells\n",
    "4. valuelist = list of cell types of interest\n",
    "\n",
    "#### Output: \n",
    "Adds cluster assignments to adata.obs['cluster']"
   ]
  },
  {
   "cell_type": "code",
   "execution_count": 1,
   "id": "7ae5bd37-fa4e-4cf6-95a5-3ff2fee47e6c",
   "metadata": {},
   "outputs": [],
   "source": [
    "import numpy as np\n",
    "import pandas as pd\n",
    "import scanpy as sc\n",
    "import pickle\n",
    "from anndata import AnnData\n",
    "import warnings\n",
    "import squidpy as sq\n",
    "from scipy.cluster.hierarchy import DisjointSet\n",
    "import copy\n",
    "from sklearn.neighbors import NearestNeighbors\n",
    "warnings.filterwarnings(\"ignore\")"
   ]
  },
  {
   "cell_type": "code",
   "execution_count": 2,
   "id": "f24910b7-9770-4d01-beed-57435c20c80a",
   "metadata": {},
   "outputs": [],
   "source": [
    "def runScafold(adata, k, r, valuelist):\n",
    "    filtered_neighs = makeneighborgraph(adata, k, r, valuelist)\n",
    "    joinsets(adata, filtered_neighs)\n",
    "    \n",
    "def makeneighborgraph(adata, k, r, valuelist):\n",
    "    knn = NearestNeighbors(n_neighbors=k)\n",
    "    knn.fit(adata.obsm['spatial'])\n",
    "    neighbors = knn.kneighbors()\n",
    "\n",
    "    keepidx = [i for i,c in enumerate(adata.obs['ct']) if c in valuelist] \n",
    "    map_idxtoct = dict(map(lambda i,j : (i,j) , keepidx,[adata.obs['ct'][x] for x in keepidx])) \n",
    "    \n",
    "    filtered_neighs = dict() \n",
    "    for idx in keepidx:\n",
    "        filtered_neighs[idx] = set([j for i,j in enumerate(neighbors[1][idx]) if (j in map_idxtoct) and (neighbors[0][idx][i] < r)]) # filter neighbors by cell type and radius\n",
    "\n",
    "    return filtered_neighs\n",
    "\n",
    "def joinsets(adata, filtered_neighs): # call union find\n",
    "    edges = set()\n",
    "    nodes = set()\n",
    "    for k in filtered_neighs:\n",
    "        nodes.add(k)\n",
    "        for v in filtered_neighs[k]:\n",
    "            edges.add((k,v))\n",
    "            \n",
    "    disjoint_set = DisjointSet(nodes)\n",
    "    for a,b in edges:\n",
    "        disjoint_set.merge(a, b)\n",
    "\n",
    "    clusters = dict() # key is cell; value is cluster assignment (root cell)\n",
    "    for s in disjoint_set.subsets():\n",
    "        for c in s:\n",
    "            clusters[c] = disjoint_set.__getitem__(c)\n",
    "\n",
    "    adata.obs['cluster'] = range(adata.shape[0])\n",
    "    adata.obs = adata.obs.replace({\"cluster\": clusters})\n",
    "\n"
   ]
  },
  {
   "cell_type": "code",
   "execution_count": 3,
   "id": "606c5742-1b76-4aa6-bbb1-430b2ef28591",
   "metadata": {},
   "outputs": [],
   "source": [
    "adata = pickle.load(open('/data1/greenbab/users/zhangb2/xenium_files/ND83_toy.pickle','rb'))"
   ]
  },
  {
   "cell_type": "code",
   "execution_count": 4,
   "id": "edb7f2e6-b177-49b0-a8c3-d01cc83afabe",
   "metadata": {},
   "outputs": [
    {
     "data": {
      "text/html": [
       "<div>\n",
       "<style scoped>\n",
       "    .dataframe tbody tr th:only-of-type {\n",
       "        vertical-align: middle;\n",
       "    }\n",
       "\n",
       "    .dataframe tbody tr th {\n",
       "        vertical-align: top;\n",
       "    }\n",
       "\n",
       "    .dataframe thead th {\n",
       "        text-align: right;\n",
       "    }\n",
       "</style>\n",
       "<table border=\"1\" class=\"dataframe\">\n",
       "  <thead>\n",
       "    <tr style=\"text-align: right;\">\n",
       "      <th></th>\n",
       "      <th>cell_id</th>\n",
       "      <th>ct</th>\n",
       "    </tr>\n",
       "  </thead>\n",
       "  <tbody>\n",
       "    <tr>\n",
       "      <th>aaaaffnp-1-0</th>\n",
       "      <td>aaaaffnp-1</td>\n",
       "      <td>Megakaryocyte</td>\n",
       "    </tr>\n",
       "    <tr>\n",
       "      <th>aaaaojnj-1-0</th>\n",
       "      <td>aaaaojnj-1</td>\n",
       "      <td>Erythroid</td>\n",
       "    </tr>\n",
       "    <tr>\n",
       "      <th>aaaapmda-1-0</th>\n",
       "      <td>aaaapmda-1</td>\n",
       "      <td>Maturing/Mature Myeloid</td>\n",
       "    </tr>\n",
       "    <tr>\n",
       "      <th>aaabbcdp-1-0</th>\n",
       "      <td>aaabbcdp-1</td>\n",
       "      <td>T Cell</td>\n",
       "    </tr>\n",
       "    <tr>\n",
       "      <th>aaabkmdn-1-0</th>\n",
       "      <td>aaabkmdn-1</td>\n",
       "      <td>Erythroid</td>\n",
       "    </tr>\n",
       "    <tr>\n",
       "      <th>...</th>\n",
       "      <td>...</td>\n",
       "      <td>...</td>\n",
       "    </tr>\n",
       "    <tr>\n",
       "      <th>oiliadop-1-0</th>\n",
       "      <td>oiliadop-1</td>\n",
       "      <td>Erythroid</td>\n",
       "    </tr>\n",
       "    <tr>\n",
       "      <th>oiligppf-1-0</th>\n",
       "      <td>oiligppf-1</td>\n",
       "      <td>Erythroid</td>\n",
       "    </tr>\n",
       "    <tr>\n",
       "      <th>oiliholf-1-0</th>\n",
       "      <td>oiliholf-1</td>\n",
       "      <td>Macrophage</td>\n",
       "    </tr>\n",
       "    <tr>\n",
       "      <th>oilihpgc-1-0</th>\n",
       "      <td>oilihpgc-1</td>\n",
       "      <td>Erythroid</td>\n",
       "    </tr>\n",
       "    <tr>\n",
       "      <th>oililmpp-1-0</th>\n",
       "      <td>oililmpp-1</td>\n",
       "      <td>Maturing/Mature Myeloid</td>\n",
       "    </tr>\n",
       "  </tbody>\n",
       "</table>\n",
       "<p>171042 rows × 2 columns</p>\n",
       "</div>"
      ],
      "text/plain": [
       "                 cell_id                       ct\n",
       "aaaaffnp-1-0  aaaaffnp-1            Megakaryocyte\n",
       "aaaaojnj-1-0  aaaaojnj-1                Erythroid\n",
       "aaaapmda-1-0  aaaapmda-1  Maturing/Mature Myeloid\n",
       "aaabbcdp-1-0  aaabbcdp-1                   T Cell\n",
       "aaabkmdn-1-0  aaabkmdn-1                Erythroid\n",
       "...                  ...                      ...\n",
       "oiliadop-1-0  oiliadop-1                Erythroid\n",
       "oiligppf-1-0  oiligppf-1                Erythroid\n",
       "oiliholf-1-0  oiliholf-1               Macrophage\n",
       "oilihpgc-1-0  oilihpgc-1                Erythroid\n",
       "oililmpp-1-0  oililmpp-1  Maturing/Mature Myeloid\n",
       "\n",
       "[171042 rows x 2 columns]"
      ]
     },
     "execution_count": 4,
     "metadata": {},
     "output_type": "execute_result"
    }
   ],
   "source": [
    "adata.obs"
   ]
  },
  {
   "cell_type": "code",
   "execution_count": 5,
   "id": "77d64ca9-145b-47f8-878b-03b7fb608c1f",
   "metadata": {},
   "outputs": [
    {
     "data": {
      "text/plain": [
       "array([[ 1735.67320709,  5907.53197209],\n",
       "       [ 8052.32246051,  5706.30418283],\n",
       "       [ 8289.39414416, 11536.8386676 ],\n",
       "       ...,\n",
       "       [ 2520.78167927,  8581.99538172],\n",
       "       [ 7978.56171806,  6760.57096967],\n",
       "       [ 8298.63895903,  6458.61162463]])"
      ]
     },
     "execution_count": 5,
     "metadata": {},
     "output_type": "execute_result"
    }
   ],
   "source": [
    "adata.obsm['spatial']"
   ]
  },
  {
   "cell_type": "code",
   "execution_count": 6,
   "id": "ec1ca840-c8ef-4165-abb3-f9c5d86f5e99",
   "metadata": {
    "scrolled": true
   },
   "outputs": [],
   "source": [
    "runScafold(adata, 10, 20, ['T Cell', 'B Cell', 'pDC', 'NK']) # to find lymphoid aggregates"
   ]
  },
  {
   "cell_type": "code",
   "execution_count": 7,
   "id": "19364ce7-cc3e-41c8-a9c2-c23ab578a03e",
   "metadata": {},
   "outputs": [
    {
     "data": {
      "text/plain": [
       "102831    196\n",
       "69558     172\n",
       "33605     118\n",
       "34416     107\n",
       "100988     50\n",
       "         ... \n",
       "57144       1\n",
       "57145       1\n",
       "57146       1\n",
       "57147       1\n",
       "171041      1\n",
       "Name: cluster, Length: 163912, dtype: int64"
      ]
     },
     "execution_count": 7,
     "metadata": {},
     "output_type": "execute_result"
    }
   ],
   "source": [
    "# Size of clusters\n",
    "adata.obs['cluster'].value_counts()"
   ]
  },
  {
   "cell_type": "code",
   "execution_count": 8,
   "id": "4fa8726c-2497-4449-8d29-4dbceaf446a0",
   "metadata": {},
   "outputs": [
    {
     "data": {
      "text/plain": [
       "T Cell                     111\n",
       "B Cell                      51\n",
       "pDC                         32\n",
       "NK                           2\n",
       "Megakaryocyte                0\n",
       "VSMC                         0\n",
       "Plasma Cell                  0\n",
       "Osteoblast                   0\n",
       "Mesenchymal/Stromal          0\n",
       "Adipocyte                    0\n",
       "Mast                         0\n",
       "Macrophage                   0\n",
       "HSPC                         0\n",
       "Erythroid                    0\n",
       "Endothelial                  0\n",
       "Early Myeloid                0\n",
       "Maturing/Mature Myeloid      0\n",
       "Name: ct, dtype: int64"
      ]
     },
     "execution_count": 8,
     "metadata": {},
     "output_type": "execute_result"
    }
   ],
   "source": [
    "# Cell types within largest cluster\n",
    "adata.obs['ct'][adata.obs['cluster'] == 102831].value_counts()"
   ]
  },
  {
   "cell_type": "code",
   "execution_count": null,
   "id": "4e052c26-d009-41a0-a9fe-3be5f86f6457",
   "metadata": {},
   "outputs": [],
   "source": []
  }
 ],
 "metadata": {
  "kernelspec": {
   "display_name": "Python 3 (ipykernel)",
   "language": "python",
   "name": "python3"
  },
  "language_info": {
   "codemirror_mode": {
    "name": "ipython",
    "version": 3
   },
   "file_extension": ".py",
   "mimetype": "text/x-python",
   "name": "python",
   "nbconvert_exporter": "python",
   "pygments_lexer": "ipython3",
   "version": "3.8.18"
  }
 },
 "nbformat": 4,
 "nbformat_minor": 5
}
