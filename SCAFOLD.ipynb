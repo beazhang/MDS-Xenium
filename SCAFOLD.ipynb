{
 "cells": [
  {
   "cell_type": "markdown",
   "id": "fd2db602-4eb3-419c-aec5-ff86ba0ee5d1",
   "metadata": {},
   "source": [
    "# SCAFOLD Function\n",
    "SCAFOLD identifies local structures ('clusters') in spatial data based on user defined values\n",
    "\n",
    "#### Inputs: \n",
    "1. adata = adata object containing x,y coordinates of cells under adata_comb.obsm['spatial'] and cell type annotations under adata.obs['ct']\n",
    "2. k = number of nearest neighbors for knn\n",
    "3. r = distance cutoff between two cells\n",
    "4. valuelist = list of cell types of interest\n",
    "\n",
    "#### Output: \n",
    "Adds cluster assignments to adata.obs['cluster']"
   ]
  },
  {
   "cell_type": "code",
   "execution_count": 1,
   "id": "7ae5bd37-fa4e-4cf6-95a5-3ff2fee47e6c",
   "metadata": {},
   "outputs": [],
   "source": [
    "import numpy as np\n",
    "import pandas as pd\n",
    "import scanpy as sc\n",
    "import pickle\n",
    "from anndata import AnnData\n",
    "import warnings\n",
    "import hotspot\n",
    "import squidpy as sq\n",
    "from scipy.cluster.hierarchy import DisjointSet\n",
    "import copy\n",
    "warnings.filterwarnings(\"ignore\")"
   ]
  },
  {
   "cell_type": "code",
   "execution_count": 2,
   "id": "f24910b7-9770-4d01-beed-57435c20c80a",
   "metadata": {},
   "outputs": [],
   "source": [
    "def runScafold(adata, k, r, valuelist):\n",
    "    filtered_neighs = makeneighborgraph(adata, k, r, valuelist)\n",
    "    joinsets(adata, filtered_neighs)\n",
    "    \n",
    "def makeneighborgraph(adata, k, r, valuelist):\n",
    "    sc.pp.neighbors(adata, n_neighbors= k + 1, use_rep = 'spatial', key_added='knn')\n",
    "    g = copy.deepcopy(adata.obsp['knn_distances'])\n",
    "    g[g >= r] = 0 # filter edges on radius cutoff\n",
    "    g[g > 0] = 1 \n",
    "    \n",
    "    keepidx = [i for i,c in enumerate(adata.obs['ct']) if c in valuelist] \n",
    "    map_idxtoct = dict(map(lambda i,j : (i,j) , keepidx,[adata.obs['ct'][x] for x in keepidx])) \n",
    "    \n",
    "    filtered_neighs = dict() \n",
    "    for idx in keepidx:\n",
    "        filtered_neighs[idx] = set([i for i in np.nonzero(g[idx,:])[1] if i in map_idxtoct])\n",
    "\n",
    "    return filtered_neighs\n",
    "\n",
    "def joinsets(adata, filtered_neighs): # call union find\n",
    "    edges = set()\n",
    "    nodes = set()\n",
    "    for k in filtered_neighs:\n",
    "        nodes.add(k)\n",
    "        for v in filtered_neighs[k]:\n",
    "            edges.add((k,v))\n",
    "            \n",
    "    disjoint_set = DisjointSet(nodes)\n",
    "    for a,b in edges:\n",
    "        disjoint_set.merge(a, b)\n",
    "\n",
    "    clusters = dict() # key is cell; value is cluster assignment (root cell)\n",
    "    for s in disjoint_set.subsets():\n",
    "        for c in s:\n",
    "            clusters[c] = disjoint_set.__getitem__(c)\n",
    "\n",
    "    adata.obs['cluster'] = range(adata.shape[0])\n",
    "    adata.obs = adata.obs.replace({\"cluster\": clusters})\n",
    "\n"
   ]
  },
  {
   "cell_type": "code",
   "execution_count": 3,
   "id": "606c5742-1b76-4aa6-bbb1-430b2ef28591",
   "metadata": {},
   "outputs": [],
   "source": [
    "adata_comb = pickle.load(open('/data1/greenbab/users/zhangb2/xenium_files/adatas_megacorrected_TLS_annotated_LOCK.pickle','rb'))"
   ]
  },
  {
   "cell_type": "code",
   "execution_count": 4,
   "id": "a935c577-3f0a-41cf-925b-4968c52b8c69",
   "metadata": {},
   "outputs": [
    {
     "data": {
      "text/plain": [
       "array([[ 1735.67320709,  5907.53197209],\n",
       "       [ 8052.32246051,  5706.30418283],\n",
       "       [ 8289.39414416, 11536.8386676 ],\n",
       "       ...,\n",
       "       [ 2274.22886566, 13574.94622184],\n",
       "       [  818.37917797,  2576.73437019],\n",
       "       [ 1369.77385112,  4876.46429951]])"
      ]
     },
     "execution_count": 4,
     "metadata": {},
     "output_type": "execute_result"
    }
   ],
   "source": [
    "adata_comb.obsm['spatial']"
   ]
  },
  {
   "cell_type": "code",
   "execution_count": 5,
   "id": "e3c96bc0-b5d7-4b3a-8e37-b533c27024cd",
   "metadata": {},
   "outputs": [
    {
     "data": {
      "text/plain": [
       "aaaaffnp-1-0               Megakaryocyte\n",
       "aaaaojnj-1-0                   Erythroid\n",
       "aaaapmda-1-0     Maturing/Mature Myeloid\n",
       "aaabbcdp-1-0                      T Cell\n",
       "aaabkmdn-1-0                   Erythroid\n",
       "                          ...           \n",
       "oihnhiki-1-19    Maturing/Mature Myeloid\n",
       "oiifcaee-1-19                Plasma Cell\n",
       "oijcbbpj-1-19    Maturing/Mature Myeloid\n",
       "oikcgdcb-1-19    Maturing/Mature Myeloid\n",
       "oikdhjmf-1-19    Maturing/Mature Myeloid\n",
       "Name: ct, Length: 1852727, dtype: category\n",
       "Categories (17, object): ['Adipocyte', 'B Cell', 'Early Myeloid', 'Endothelial', ..., 'Plasma Cell', 'T Cell', 'VSMC', 'pDC']"
      ]
     },
     "execution_count": 5,
     "metadata": {},
     "output_type": "execute_result"
    }
   ],
   "source": [
    "adata_comb.obs['ct'] = adata_comb.obs['ct_general']\n",
    "adata_comb.obs['ct']"
   ]
  },
  {
   "cell_type": "code",
   "execution_count": 6,
   "id": "9c9337b7-2d57-4508-8003-af7ce5885d68",
   "metadata": {},
   "outputs": [
    {
     "name": "stdout",
     "output_type": "stream",
     "text": [
      "0\n",
      "1\n",
      "2\n",
      "3\n",
      "4\n",
      "5\n",
      "6\n",
      "8\n",
      "9\n",
      "10\n",
      "11\n",
      "13\n",
      "14\n",
      "15\n",
      "16\n",
      "17\n",
      "18\n",
      "19\n"
     ]
    }
   ],
   "source": [
    "df = None\n",
    "for samp in adata_comb.obs['sample'].unique():\n",
    "    print(samp)\n",
    "    adatasamp = adata_comb[adata_comb.obs['sample'] == samp]\n",
    "    runScafold(adatasamp, 10, 20, ['T Cell', 'B Cell', 'pDC', 'NK']) # to find lymphoid aggregates\n",
    "    df = pd.concat([df, adatasamp.obs.loc[: , ['sample','cluster']]])"
   ]
  },
  {
   "cell_type": "code",
   "execution_count": 7,
   "id": "d567fe46-3a56-4c1a-ac62-ec26b328bee1",
   "metadata": {
    "scrolled": true
   },
   "outputs": [],
   "source": [
    "# add cluster annotations to combined adata\n",
    "df['cluster_new'] = [str(df['sample'][i]) + '_' + str(j) for i,j in enumerate(df['cluster'])]\n",
    "di = dict(zip(df.index, df.cluster_new))\n",
    "adata_comb.obs['cluster'] = [di[x] for x in adata_comb.obs.index]\n"
   ]
  },
  {
   "cell_type": "code",
   "execution_count": null,
   "id": "4e052c26-d009-41a0-a9fe-3be5f86f6457",
   "metadata": {},
   "outputs": [],
   "source": []
  }
 ],
 "metadata": {
  "kernelspec": {
   "display_name": "Python 3 (ipykernel)",
   "language": "python",
   "name": "python3"
  },
  "language_info": {
   "codemirror_mode": {
    "name": "ipython",
    "version": 3
   },
   "file_extension": ".py",
   "mimetype": "text/x-python",
   "name": "python",
   "nbconvert_exporter": "python",
   "pygments_lexer": "ipython3",
   "version": "3.8.18"
  }
 },
 "nbformat": 4,
 "nbformat_minor": 5
}
